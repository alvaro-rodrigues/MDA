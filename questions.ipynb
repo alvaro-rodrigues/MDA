{
 "cells": [
  {
   "cell_type": "code",
   "execution_count": null,
   "metadata": {},
   "outputs": [],
   "source": [
    "import pandas as pd\n",
    "import random"
   ]
  },
  {
   "cell_type": "code",
   "execution_count": null,
   "metadata": {},
   "outputs": [],
   "source": [
    "df = pd.read_csv(\"data.csv\")\n",
    "\n",
    "def list_subjects(df):\n",
    "    subjects = []\n",
    "    for i in range(df['question'].count()):\n",
    "        subs = df.at[i,'subject'].split(\"|\")\n",
    "        for j in range(len(subs)):\n",
    "            subjects.append(subs[j])\n",
    "    subjects = list(dict.fromkeys(subjects))\n",
    "    for k in range(len(subjects)):\n",
    "        print(\"%s\\n\"% (subjects[k]))\n",
    "\n",
    "def get_by_subject(df, subject):\n",
    "    for i in range(df['question'].count()):\n",
    "        subs = df.at[i,'subject'].split(\"|\")\n",
    "        for j in range(len(subs)):\n",
    "            if subs[j] == subject:\n",
    "                print(\"%s\\n\\n%s\\n\\n\\n\"% (df.at[i,'question'], df.at[i,'answer']))\n",
    "                break\n",
    "\n",
    "def get_random(df, n):\n",
    "    random.seed()\n",
    "    if n > df['question'].count():\n",
    "         n = df['question'].count()\n",
    "    selected = []\n",
    "    for i in range(n):\n",
    "        while(1):\n",
    "            count = 0\n",
    "            r = random.randint(0, n-1)\n",
    "            for j in range(len(selected)):\n",
    "                if selected[j] == r:\n",
    "                    break\n",
    "                count += 1\n",
    "            if count == len(selected):\n",
    "                selected.append(r)\n",
    "                print(\"%s\\n\\n%s\\n\\n\\n\"% (df.at[r,'question'], df.at[r,'answer']))\n",
    "                break\n",
    "\n",
    "def get_last(df, n):\n",
    "    if n > df['question'].count():\n",
    "         n = df['question'].count()\n",
    "    for i in range(n):\n",
    "        print(\"%s\\n\\n%s\\n\\n\\n\"% (df.at[n-i,'question'], df.at[n-i,'answer']))"
   ]
  },
  {
   "cell_type": "code",
   "execution_count": null,
   "metadata": {},
   "outputs": [],
   "source": [
    "#Adding question\n",
    "question = \"Lorem ipsum\"\n",
    "answer = \"Lorem ipsum\"\n",
    "subjects = \"potato|banana|apple\"\n",
    "df.loc[df['question'].count()] = [question, answer, subjects]"
   ]
  },
  {
   "cell_type": "code",
   "execution_count": null,
   "metadata": {},
   "outputs": [],
   "source": [
    "#Removing question\n",
    "df = df.drop(df.index[df['question'].count()-1])"
   ]
  },
  {
   "cell_type": "code",
   "execution_count": null,
   "metadata": {},
   "outputs": [],
   "source": [
    "#Exporting to csv\n",
    "df.to_csv(r'data.csv', index=False)"
   ]
  }
 ],
 "metadata": {
  "kernelspec": {
   "display_name": "Python 3",
   "language": "python",
   "name": "python3"
  },
  "language_info": {
   "codemirror_mode": {
    "name": "ipython",
    "version": 3
   },
   "file_extension": ".py",
   "mimetype": "text/x-python",
   "name": "python",
   "nbconvert_exporter": "python",
   "pygments_lexer": "ipython3",
   "version": "3.7.3"
  }
 },
 "nbformat": 4,
 "nbformat_minor": 2
}
