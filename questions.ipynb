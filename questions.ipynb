{
 "cells": [
  {
   "cell_type": "code",
   "execution_count": 1,
   "metadata": {},
   "outputs": [],
   "source": [
    "import pandas as pd\n",
    "import random"
   ]
  },
  {
   "cell_type": "code",
   "execution_count": 2,
   "metadata": {},
   "outputs": [],
   "source": [
    "df = pd.read_csv(\"data.csv\")\n",
    "\n",
    "def list_subjects(df):\n",
    "    subjects = []\n",
    "    for i in range(df['question'].count()):\n",
    "        subs = df.at[i,'subject'].split(\"|\")\n",
    "        for j in range(len(subs)):\n",
    "            subjects.append(subs[j])\n",
    "    subjects = list(dict.fromkeys(subjects))\n",
    "    for k in range(len(subjects)):\n",
    "        print(\"%s\\n\"% (subjects[k]))\n",
    "\n",
    "def get_by_subject(df, subject):\n",
    "    for i in range(df['question'].count()):\n",
    "        subs = df.at[i,'subject'].split(\"|\")\n",
    "        for j in range(len(subs)):\n",
    "            if subs[j] == subject:\n",
    "                print(\"%s\\n\\n%s\\n\\n\\n\"% (df.at[i,'question'], df.at[i,'answer']))\n",
    "                break\n",
    "\n",
    "def get_random(df, n):\n",
    "    random.seed()\n",
    "    if n > df['question'].count():\n",
    "         n = df['question'].count()\n",
    "    selected = []\n",
    "    for i in range(n):\n",
    "        while(1):\n",
    "            count = 0\n",
    "            r = random.randint(0, n-1)\n",
    "            for j in range(len(selected)):\n",
    "                if selected[j] == r:\n",
    "                    break\n",
    "                count += 1\n",
    "            if count == len(selected):\n",
    "                selected.append(r)\n",
    "                print(\"%s\\n\\n%s\\n\\n\\n\"% (df.at[r,'question'], df.at[r,'answer']))\n",
    "                break\n",
    "\n",
    "def get_last(df, n):\n",
    "    if n > df['question'].count():\n",
    "         n = df['question'].count()\n",
    "    for i in range(n):\n",
    "        print(\"%s\\n\\n%s\\n\\n\\n\"% (df.at[n-i,'question'], df.at[n-i,'answer']))"
   ]
  },
  {
   "cell_type": "code",
   "execution_count": 3,
   "metadata": {},
   "outputs": [
    {
     "data": {
      "text/html": [
       "<div>\n",
       "<style scoped>\n",
       "    .dataframe tbody tr th:only-of-type {\n",
       "        vertical-align: middle;\n",
       "    }\n",
       "\n",
       "    .dataframe tbody tr th {\n",
       "        vertical-align: top;\n",
       "    }\n",
       "\n",
       "    .dataframe thead th {\n",
       "        text-align: right;\n",
       "    }\n",
       "</style>\n",
       "<table border=\"1\" class=\"dataframe\">\n",
       "  <thead>\n",
       "    <tr style=\"text-align: right;\">\n",
       "      <th></th>\n",
       "      <th>question</th>\n",
       "      <th>answer</th>\n",
       "      <th>subject</th>\n",
       "    </tr>\n",
       "  </thead>\n",
       "  <tbody>\n",
       "    <tr>\n",
       "      <th>0</th>\n",
       "      <td>Different communities have different visions o...</td>\n",
       "      <td>To be answered</td>\n",
       "      <td>perspective</td>\n",
       "    </tr>\n",
       "    <tr>\n",
       "      <th>1</th>\n",
       "      <td>Give an abstract vision of the knowledge disco...</td>\n",
       "      <td>To be answered</td>\n",
       "      <td>knowledge discovery</td>\n",
       "    </tr>\n",
       "    <tr>\n",
       "      <th>2</th>\n",
       "      <td>When mining data; the analyst should always be...</td>\n",
       "      <td>To be answered</td>\n",
       "      <td>problems|perspective</td>\n",
       "    </tr>\n",
       "    <tr>\n",
       "      <th>3</th>\n",
       "      <td>Many datasets describe objects with attributes...</td>\n",
       "      <td>To be answered</td>\n",
       "      <td>attributes</td>\n",
       "    </tr>\n",
       "  </tbody>\n",
       "</table>\n",
       "</div>"
      ],
      "text/plain": [
       "                                            question          answer  \\\n",
       "0  Different communities have different visions o...  To be answered   \n",
       "1  Give an abstract vision of the knowledge disco...  To be answered   \n",
       "2  When mining data; the analyst should always be...  To be answered   \n",
       "3  Many datasets describe objects with attributes...  To be answered   \n",
       "\n",
       "                subject  \n",
       "0           perspective  \n",
       "1   knowledge discovery  \n",
       "2  problems|perspective  \n",
       "3            attributes  "
      ]
     },
     "execution_count": 3,
     "metadata": {},
     "output_type": "execute_result"
    }
   ],
   "source": [
    "df.head()"
   ]
  },
  {
   "cell_type": "code",
   "execution_count": 14,
   "metadata": {},
   "outputs": [],
   "source": [
    "#Adding question\n",
    "question = \"Lorem ipsum\"\n",
    "answer = \"Lorem ipsum\"\n",
    "subjects = \"potato|banana\"\n",
    "df.loc[df['question'].count()] = [question, answer, subjects]"
   ]
  },
  {
   "cell_type": "code",
   "execution_count": null,
   "metadata": {},
   "outputs": [],
   "source": [
    "#Removing question\n",
    "df = df.drop(df.index[df['question'].count()-1])"
   ]
  },
  {
   "cell_type": "code",
   "execution_count": null,
   "metadata": {},
   "outputs": [],
   "source": [
    "#Exporting to csv\n",
    "df.to_csv(r'data.csv', index=False)"
   ]
  },
  {
   "cell_type": "code",
   "execution_count": 8,
   "metadata": {},
   "outputs": [
    {
     "name": "stdout",
     "output_type": "stream",
     "text": [
      "perspective\n",
      "\n",
      "knowledge discovery\n",
      "\n",
      "problems\n",
      "\n",
      "attributes\n",
      "\n"
     ]
    }
   ],
   "source": [
    "list_subjects(df)"
   ]
  },
  {
   "cell_type": "code",
   "execution_count": 7,
   "metadata": {},
   "outputs": [
    {
     "name": "stdout",
     "output_type": "stream",
     "text": [
      "Different communities have different visions of data mining. Can you give the epistemological perspective on data mining; the one from the database community; the machine learning community; the inductive database vision; the way businesses consider data mining?\n",
      "\n",
      "To be answered\n",
      "\n",
      "\n",
      "\n",
      "When mining data; the analyst should always be careful of the many problems encountered in real datasets. Can you give some of them? What statistical assumptions are usually made on the objects in the dataset? Which one sampling bias violates? What is Berkson's paradox? Give an example.\n",
      "\n",
      "To be answered\n",
      "\n",
      "\n",
      "\n"
     ]
    }
   ],
   "source": [
    "get_by_subject(df, 'perspective')"
   ]
  },
  {
   "cell_type": "code",
   "execution_count": 9,
   "metadata": {},
   "outputs": [
    {
     "name": "stdout",
     "output_type": "stream",
     "text": [
      "Many datasets describe objects with attributes. Categorize those attributes w.r.t. their \"types\" and explain what kind of processes (derivation of other attributes; statistics; and data mining algorithms) requires what \"type\" of attribute(s).\n",
      "\n",
      "To be answered\n",
      "\n",
      "\n",
      "\n",
      "When mining data; the analyst should always be careful of the many problems encountered in real datasets. Can you give some of them? What statistical assumptions are usually made on the objects in the dataset? Which one sampling bias violates? What is Berkson's paradox? Give an example.\n",
      "\n",
      "To be answered\n",
      "\n",
      "\n",
      "\n",
      "Give an abstract vision of the knowledge discovery process and qualify it.\n",
      "\n",
      "To be answered\n",
      "\n",
      "\n",
      "\n"
     ]
    }
   ],
   "source": [
    "get_last(df, 3)"
   ]
  },
  {
   "cell_type": "code",
   "execution_count": 6,
   "metadata": {},
   "outputs": [
    {
     "name": "stdout",
     "output_type": "stream",
     "text": [
      "Different communities have different visions of data mining. Can you give the epistemological perspective on data mining; the one from the database community; the machine learning community; the inductive database vision; the way businesses consider data mining?\n",
      "\n",
      "To be answered\n",
      "\n",
      "\n",
      "\n",
      "Give an abstract vision of the knowledge discovery process and qualify it.\n",
      "\n",
      "To be answered\n",
      "\n",
      "\n",
      "\n"
     ]
    }
   ],
   "source": [
    "get_random(df, 2)"
   ]
  },
  {
   "cell_type": "code",
   "execution_count": null,
   "metadata": {},
   "outputs": [],
   "source": []
  }
 ],
 "metadata": {
  "kernelspec": {
   "display_name": "Python 3",
   "language": "python",
   "name": "python3"
  },
  "language_info": {
   "codemirror_mode": {
    "name": "ipython",
    "version": 3
   },
   "file_extension": ".py",
   "mimetype": "text/x-python",
   "name": "python",
   "nbconvert_exporter": "python",
   "pygments_lexer": "ipython3",
   "version": "3.7.3"
  }
 },
 "nbformat": 4,
 "nbformat_minor": 2
}
